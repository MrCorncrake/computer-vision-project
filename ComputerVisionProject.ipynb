{
  "nbformat": 4,
  "nbformat_minor": 0,
  "metadata": {
    "colab": {
      "provenance": []
    },
    "kernelspec": {
      "name": "python3",
      "display_name": "Python 3"
    },
    "language_info": {
      "name": "python"
    }
  },
  "cells": [
    {
      "cell_type": "code",
      "execution_count": null,
      "metadata": {
        "id": "lIza64i5RRx6"
      },
      "outputs": [],
      "source": [
        "import numpy as np\n",
        "import pandas as pd\n",
        "%matplotlib inline\n",
        "import seaborn as sns\n",
        "import matplotlib.pyplot as plt\n",
        "import cv2\n",
        "import os\n",
        "import warnings\n",
        "warnings.filterwarnings('ignore')\n",
        "import tensorflow as tf\n",
        "import random\n",
        "import albumentations as A\n",
        "from tensorflow.keras.preprocessing.image import ImageDataGenerator\n",
        "from tensorflow.keras.layers import Dense,Activation,Flatten, Conv2D, MaxPooling2D\n",
        "from tensorflow.keras.models import Sequential\n",
        "from tensorflow.keras.callbacks import ModelCheckpoint,EarlyStopping"
      ]
    },
    {
      "cell_type": "code",
      "source": [
        "train_image_path = '../input/plant-pathology-2021-fgvc8/train_images'\n",
        "test_image_path = '../input/plant-pathology-2021-fgvc8/test_images'\n",
        "train_df_path = '../input/plant-pathology-2021-fgvc8/train.csv'\n",
        "test_df_path = '../input/plant-pathology-2021-fgvc8/sample_submission.csv'"
      ],
      "metadata": {
        "id": "Ai4jLWdqTPe_"
      },
      "execution_count": null,
      "outputs": []
    },
    {
      "cell_type": "code",
      "source": [
        "df_train = pd.read_csv(train_df_path)\n",
        "df_test=pd.read_csv(test_df_path)"
      ],
      "metadata": {
        "id": "VljhS0gPTSeu"
      },
      "execution_count": null,
      "outputs": []
    },
    {
      "cell_type": "code",
      "source": [
        "HEIGHT = 128\n",
        "WIDTH= 128\n",
        "SEED = 45\n",
        "BATCH_SIZE= 64\n",
        "\n",
        "train_datagen = ImageDataGenerator(rescale = 1/255.,\n",
        "    rotation_range=20,\n",
        "    width_shift_range=0.2,\n",
        "    height_shift_range=0.2,\n",
        "    horizontal_flip=True,\n",
        "    validation_split = 0.2,\n",
        "    zoom_range = 0.2,\n",
        "    shear_range = 0.2,\n",
        "    vertical_flip = False)\n",
        "\n",
        "train_dataset = train_datagen.flow_from_dataframe(\n",
        "    df_train,\n",
        "    directory = train_image_path,\n",
        "    x_col = \"image\",\n",
        "    y_col = \"labels\",\n",
        "    target_size = (HEIGHT,WIDTH),\n",
        "    class_mode='categorical',\n",
        "    batch_size = BATCH_SIZE,\n",
        "    subset = \"training\",\n",
        "    shuffle = True,\n",
        "    seed = SEED,\n",
        "    validate_filenames = False\n",
        ")\n",
        "\n",
        "validation_dataset = train_datagen.flow_from_dataframe(\n",
        "    df_train,\n",
        "    directory = train_image_path,\n",
        "    x_col = \"image\",\n",
        "    y_col = \"labels\",\n",
        "    target_size = (HEIGHT,WIDTH),\n",
        "    class_mode='categorical',\n",
        "    batch_size = BATCH_SIZE,\n",
        "    subset = \"validation\",\n",
        "    shuffle = True,\n",
        "    seed = SEED,\n",
        "    validate_filenames = False\n",
        ")\n",
        "\n",
        "test_datagen = ImageDataGenerator(\n",
        "    rescale = 1./255\n",
        ")\n",
        "INPUT_SIZE = (HEIGHT,WIDTH,3)\n",
        "test_dataset=test_datagen.flow_from_dataframe(\n",
        "    df_test,\n",
        "    directory=test_image_path,\n",
        "    x_col='image',\n",
        "    y_col=None,\n",
        "    class_mode=None,\n",
        "    target_size=INPUT_SIZE[:2]\n",
        ")"
      ],
      "metadata": {
        "id": "o40qAB6DTUik"
      },
      "execution_count": null,
      "outputs": []
    },
    {
      "cell_type": "code",
      "source": [
        "model=Sequential()\n",
        "model.add(Conv2D(32,(3,3),activation='relu',padding='same',input_shape=(HEIGHT,WIDTH,3)))\n",
        "model.add(MaxPooling2D(2,2))\n",
        "model.add(Conv2D(64,(3,3),activation='relu',padding='same'))\n",
        "model.add(MaxPooling2D(2,2))\n",
        "model.add(Conv2D(64,(3,3),activation='relu',padding='same'))\n",
        "model.add(MaxPooling2D(2,2))\n",
        "model.add(Conv2D(128,(3,3),activation='relu',padding='same'))\n",
        "model.add(MaxPooling2D(2,2))\n",
        "model.add(Flatten())\n",
        "model.add(Dense(12,activation='softmax'))"
      ],
      "metadata": {
        "id": "jUBKtWtQTl_I"
      },
      "execution_count": null,
      "outputs": []
    },
    {
      "cell_type": "code",
      "source": [
        "model.compile(optimizer=tf.keras.optimizers.Adam(learning_rate=0.001),\n",
        "    loss='categorical_crossentropy',\n",
        "    metrics=['accuracy'])\n",
        "model.summary()"
      ],
      "metadata": {
        "id": "gK938uMNToiy"
      },
      "execution_count": null,
      "outputs": []
    },
    {
      "cell_type": "code",
      "source": [
        "checkpoint_path = \"training_1/cp.ckpt\"\n",
        "checkpoint_dir = os.path.dirname(checkpoint_path)\n",
        "\n",
        "# Create a callback that saves the model's weights\n",
        "cp_callback = tf.keras.callbacks.ModelCheckpoint(filepath=checkpoint_path,\n",
        "                                                 save_weights_only=True,\n",
        "                                                 verbose=1)"
      ],
      "metadata": {
        "id": "kJMSClI_TqPE"
      },
      "execution_count": null,
      "outputs": []
    },
    {
      "cell_type": "code",
      "source": [
        "model_history=model.fit_generator(train_dataset,\n",
        "                                  validation_data=validation_dataset,\n",
        "                                  epochs=5,\n",
        "                                  steps_per_epoch=train_dataset.samples//128,\n",
        "                                 validation_steps=validation_dataset.samples//128,\n",
        "                                 callbacks=[cp_callback]\n",
        "                                 )"
      ],
      "metadata": {
        "id": "EcaVOAUATt42"
      },
      "execution_count": null,
      "outputs": []
    },
    {
      "cell_type": "code",
      "source": [
        "train_dataset.class_indices.items()"
      ],
      "metadata": {
        "id": "pYe7aKYzTwhm"
      },
      "execution_count": null,
      "outputs": []
    },
    {
      "cell_type": "code",
      "source": [
        "preds = model.predict(test_dataset)\n",
        "print(preds)"
      ],
      "metadata": {
        "id": "3rD0oPTNT1o6"
      },
      "execution_count": null,
      "outputs": []
    },
    {
      "cell_type": "code",
      "source": [
        "preds_disease_ind=np.argmax(preds, axis=-1)"
      ],
      "metadata": {
        "id": "vVh9sMIcT4q-"
      },
      "execution_count": null,
      "outputs": []
    },
    {
      "cell_type": "code",
      "source": [
        "preds_disease_ind"
      ],
      "metadata": {
        "id": "20P31eiWT6PK"
      },
      "execution_count": null,
      "outputs": []
    }
  ]
}